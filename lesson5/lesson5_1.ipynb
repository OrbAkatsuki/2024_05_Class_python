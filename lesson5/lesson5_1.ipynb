{
 "cells": [
  {
   "cell_type": "code",
   "execution_count": 1,
   "metadata": {},
   "outputs": [
    {
     "name": "stdout",
     "output_type": "stream",
     "text": [
      "個人資訊 - 姓名: 1, 身高: 1.0 cm, 體重: 1.0, BMI: 10000.0\n",
      "BMI計算結果:異常範圍\n"
     ]
    }
   ],
   "source": [
    "name = input(\"請輸入您的姓名:\")\n",
    "cm = float(input(\"請輸入您的身高(cm):\"))\n",
    "weight = float(input(\"請輸入您的體重(kg):\"))\n",
    "bmi = float(round((weight / ( cm / 100 ) ** 2),ndigits=2))\n",
    "\n",
    "\n",
    "if 18.25 <= bmi <= 24:\n",
    "    bmitype = \"正常範圍\"\n",
    "else:\n",
    "    bmitype = \"異常範圍\"\n",
    "\n",
    "print(f\"個人資訊 - 姓名: {name}, 身高: {cm} cm, 體重: {weight}, BMI: {bmi}\")\n",
    "print(f\"BMI計算結果:{bmitype}\")"
   ]
  },
  {
   "cell_type": "code",
   "execution_count": 9,
   "metadata": {},
   "outputs": [
    {
     "name": "stdout",
     "output_type": "stream",
     "text": [
      "格式錯誤\n",
      "應用程式結束\n"
     ]
    }
   ],
   "source": [
    "#學生的總分為300分\n",
    "#有些學生可以加分5%\n",
    "\n",
    "try:\n",
    "    scores =  int(input(\"請輸入學生分數(最高300分):\"))\n",
    "    if scores <= 300:\n",
    "        is_add = input(\"學生是否符合加分條件?(y,n)\")\n",
    "        if is_add == \"y\":\n",
    "            scores *= 1.05\n",
    "            if scores >300:\n",
    "                scores = 300\n",
    "\n",
    "        print(f\"學生分數是{round(scores,ndigits=0)}分\")\n",
    "    else:\n",
    "        print(\"輸入的範圍不正確\")\n",
    "except ValueError:\n",
    "    print(\"格式錯誤\")\n",
    "except Exception:\n",
    "    print(\"不知名的錯誤\")\n",
    "\n",
    "print(\"應用程式結束\")"
   ]
  },
  {
   "cell_type": "code",
   "execution_count": 6,
   "metadata": {},
   "outputs": [
    {
     "name": "stdout",
     "output_type": "stream",
     "text": [
      "格式錯誤\n"
     ]
    }
   ],
   "source": [
    "try:\n",
    "    money = int(input(\"請輸入金額\"))\n",
    "    print(money)\n",
    "except ValueError:\n",
    "    print(\"格式錯誤\")\n",
    "except Exception:\n",
    "    print(\"不知名的錯誤\")\n",
    "print(\"應用程式結束\")"
   ]
  }
 ],
 "metadata": {
  "kernelspec": {
   "display_name": "Python 3",
   "language": "python",
   "name": "python3"
  },
  "language_info": {
   "codemirror_mode": {
    "name": "ipython",
    "version": 3
   },
   "file_extension": ".py",
   "mimetype": "text/x-python",
   "name": "python",
   "nbconvert_exporter": "python",
   "pygments_lexer": "ipython3",
   "version": "3.10.14"
  }
 },
 "nbformat": 4,
 "nbformat_minor": 2
}
