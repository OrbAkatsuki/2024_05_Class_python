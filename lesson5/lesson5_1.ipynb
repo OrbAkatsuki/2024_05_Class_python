{
 "cells": [
  {
   "cell_type": "code",
   "execution_count": null,
   "metadata": {},
   "outputs": [],
   "source": [
    "name = input(\"請輸入您的姓名:\")\n",
    "cm = float(input(\"請輸入您的身高(cm):\"))\n",
    "weight = float(input(\"請輸入您的體重(kg):\"))\n",
    "bmi = float(round((weight / ( cm / 100 ) ** 2),ndigits=2))\n",
    "\n",
    "\n",
    "if 18.25 <= bmi <= 24:\n",
    "    bmitype = \"正常範圍\"\n",
    "else:\n",
    "    bmitype = \"異常範圍\"\n",
    "\n",
    "print(f\"個人資訊 - 姓名: {name}, 身高: {cm} cm, 體重: {weight}, BMI: {bmi}\")\n",
    "print(f\"BMI計算結果:{bmitype}\")"
   ]
  }
 ],
 "metadata": {
  "language_info": {
   "name": "python"
  }
 },
 "nbformat": 4,
 "nbformat_minor": 2
}
