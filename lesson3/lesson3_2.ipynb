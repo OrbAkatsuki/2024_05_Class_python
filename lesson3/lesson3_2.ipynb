{
 "cells": [
  {
   "cell_type": "code",
   "execution_count": 5,
   "metadata": {},
   "outputs": [
    {
     "name": "stdout",
     "output_type": "stream",
     "text": [
      "半徑:87.0,圓的面積是:23778.7148\n"
     ]
    }
   ],
   "source": [
    "import math\n",
    "radius = float(input(\"請輸入半徑:\"))\n",
    "area = math.pi * radius ** 2\n",
    "print(f\"半徑:{radius},圓的面積是:{round(area,ndigits=4)}\")"
   ]
  },
  {
   "cell_type": "code",
   "execution_count": 9,
   "metadata": {},
   "outputs": [
    {
     "name": "stdout",
     "output_type": "stream",
     "text": [
      "對邊:30.0,斜邊:60.0,角度是:30.0\n"
     ]
    }
   ],
   "source": [
    "import math\n",
    "side = float(input(\"請輸入斜邊:\"))\n",
    "another_side = float(input(\"請輸入對邊:\"))\n",
    "\n",
    "radian = math.asin(side / another_side)\n",
    "dregee = math.degrees(radian)\n",
    "print(f\"對邊:{side},斜邊:{another_side},角度是:{round(dregee,ndigits=2)}\")"
   ]
  }
 ],
 "metadata": {
  "kernelspec": {
   "display_name": "Python 3",
   "language": "python",
   "name": "python3"
  },
  "language_info": {
   "codemirror_mode": {
    "name": "ipython",
    "version": 3
   },
   "file_extension": ".py",
   "mimetype": "text/x-python",
   "name": "python",
   "nbconvert_exporter": "python",
   "pygments_lexer": "ipython3",
   "version": "3.10.14"
  }
 },
 "nbformat": 4,
 "nbformat_minor": 2
}
