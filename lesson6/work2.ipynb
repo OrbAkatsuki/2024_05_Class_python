{
 "cells": [
  {
   "cell_type": "code",
   "execution_count": 19,
   "metadata": {},
   "outputs": [
    {
     "name": "stdout",
     "output_type": "stream",
     "text": [
      "請輸入整數以求出所有的因數: 765\n",
      "765的因數為:  1 3 5 9 15 17 45 51 85 153 255 765 \n",
      "程式結束\n"
     ]
    }
   ],
   "source": [
    "import pyinputplus as pypi\n",
    "\n",
    "n = pypi.inputInt(\"請輸入整數以求出所有的因數: \",min=0)\n",
    "print(n)\n",
    "\n",
    "print(f\"{n}的因數為: \",end=\" \")\n",
    "for i in range(1 , n + 1):\n",
    "    if n % i == 0:\n",
    "        print(i ,end=\" \")\n",
    "\n",
    "print()\n",
    "print(\"程式結束\")"
   ]
  }
 ],
 "metadata": {
  "kernelspec": {
   "display_name": "Python 3",
   "language": "python",
   "name": "python3"
  },
  "language_info": {
   "codemirror_mode": {
    "name": "ipython",
    "version": 3
   },
   "file_extension": ".py",
   "mimetype": "text/x-python",
   "name": "python",
   "nbconvert_exporter": "python",
   "pygments_lexer": "ipython3",
   "version": "3.10.14"
  }
 },
 "nbformat": 4,
 "nbformat_minor": 2
}
