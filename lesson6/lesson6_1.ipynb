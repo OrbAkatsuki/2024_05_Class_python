{
 "cells": [
  {
   "cell_type": "code",
   "execution_count": 2,
   "metadata": {},
   "outputs": [
    {
     "name": "stdout",
     "output_type": "stream",
     "text": [
      "請輸入整數:Number must be at minimum 0.\n",
      "請輸入整數:Number must be at minimum 0.\n",
      "請輸入整數:100\n"
     ]
    }
   ],
   "source": [
    "import pyinputplus as pypi\n",
    "\n",
    "value = pypi.inputInt(\"請輸入整數:\",min=0,max=300)\n",
    "print(value)"
   ]
  },
  {
   "cell_type": "code",
   "execution_count": 4,
   "metadata": {},
   "outputs": [
    {
     "name": "stdout",
     "output_type": "stream",
     "text": [
      "請輸入學生分數(最高300分):Number must be at minimum 0.\n",
      "請輸入學生分數(最高300分):Number must be at minimum 0.\n",
      "請輸入學生分數(最高300分):"
     ]
    }
   ],
   "source": [
    "#學生的總分為300分\n",
    "#有些學生可以加分5%\n",
    "import pyinputplus as pypi\n",
    "\n",
    "\n",
    "scores =  pypi.inputInt(\"請輸入學生分數(最高300分):\",min=0,max=300)\n",
    "print(scores)\n",
    "is_add = input(\"學生是否符合加分條件?(y,n)\")\n",
    "if is_add == \"y\":\n",
    "    scores *= 1.05\n",
    "    if scores > 300:\n",
    "        scores = 300\n",
    "\n",
    "print(f\"學生分數是{round(scores,ndigits=0)}分\")\n",
    "\n",
    "\n",
    "print(\"應用程式結束\")"
   ]
  },
  {
   "cell_type": "code",
   "execution_count": 3,
   "metadata": {},
   "outputs": [
    {
     "name": "stdout",
     "output_type": "stream",
     "text": [
      "請輸入學生分數:59\n",
      "學生等級: 丁\n"
     ]
    }
   ],
   "source": [
    "# 60 70 80 90\n",
    "# >= 90\n",
    "# \n",
    "import pyinputplus as pypi\n",
    "score = pypi.inputInt(\"請輸入學生分數:\",min=0,max=100)\n",
    "print(score)\n",
    "if score >= 90:\n",
    "    grade = \"優\"\n",
    "else:\n",
    "    if score >= 80:\n",
    "        grade = \"甲\"\n",
    "    else:\n",
    "        if score >= 70:\n",
    "            grade = \"乙\"\n",
    "        else:\n",
    "            if score >= 60:\n",
    "                grade = \"丙\"\n",
    "            else:\n",
    "                grade = \"丁\"\n",
    "print(f\"學生等級: {grade}\")\n"
   ]
  },
  {
   "cell_type": "code",
   "execution_count": 5,
   "metadata": {},
   "outputs": [
    {
     "name": "stdout",
     "output_type": "stream",
     "text": [
      "請輸入學生分數:'87]' is not an integer.\n",
      "請輸入學生分數:87\n",
      "學生等級: 甲\n"
     ]
    }
   ],
   "source": [
    "# 60 70 80 90\n",
    "# >= 90\n",
    "# \n",
    "import pyinputplus as pypi\n",
    "score = pypi.inputInt(\"請輸入學生分數:\",min=0,max=100)\n",
    "print(score)\n",
    "if score >= 90:\n",
    "    grade = \"優\"\n",
    "elif score >= 80:\n",
    "    grade = \"甲\"\n",
    "elif score >= 70:\n",
    "    grade = \"乙\"\n",
    "elif score >= 60:\n",
    "    grade = \"丙\"\n",
    "else:\n",
    "    grade = \"丁\"\n",
    "print(f\"學生等級: {grade}\")"
   ]
  },
  {
   "cell_type": "code",
   "execution_count": 1,
   "metadata": {},
   "outputs": [
    {
     "name": "stdout",
     "output_type": "stream",
     "text": [
      "請輸入國文分數Blank values are not allowed.\n",
      "請輸入國文分數100\n",
      "請輸入數學分數100\n",
      "獎金:1000\n"
     ]
    }
   ],
   "source": [
    "import pyinputplus as pypi\n",
    "chinese = pypi.inputInt(\"請輸入國文分數\",min=0,max=100)\n",
    "print(chinese)\n",
    "math = pypi.inputInt(\"請輸入數學分數\",min=0,max=100)\n",
    "print(math)\n",
    "#2科目100分獎金1000\n",
    "#1科目100分獎金500\n",
    "\n",
    "if chinese == 100 and math == 100:\n",
    "    bonus = 1000\n",
    "elif chinese == 100 or math ==100:\n",
    "    bonus = 500\n",
    "else:\n",
    "    bonus = 100\n",
    "\n",
    "print(f\"獎金:{bonus}\")"
   ]
  }
 ],
 "metadata": {
  "kernelspec": {
   "display_name": "Python 3",
   "language": "python",
   "name": "python3"
  },
  "language_info": {
   "codemirror_mode": {
    "name": "ipython",
    "version": 3
   },
   "file_extension": ".py",
   "mimetype": "text/x-python",
   "name": "python",
   "nbconvert_exporter": "python",
   "pygments_lexer": "ipython3",
   "version": "3.10.14"
  }
 },
 "nbformat": 4,
 "nbformat_minor": 2
}
