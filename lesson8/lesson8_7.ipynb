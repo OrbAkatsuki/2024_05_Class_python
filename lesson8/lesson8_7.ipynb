{
 "cells": [
  {
   "cell_type": "code",
   "execution_count": 6,
   "metadata": {},
   "outputs": [
    {
     "name": "stdout",
     "output_type": "stream",
     "text": [
      "[['a', 88, 87, 86], ['b', 85, 84, 83], ['c', 82, 81, 80]]\n",
      "['a', 88, 87, 86]\n",
      "['b', 85, 84, 83]\n",
      "['c', 82, 81, 80]\n"
     ]
    }
   ],
   "source": [
    "#巢狀結構,2維資料\n",
    "from pprint import pprint\n",
    "\n",
    "students:list[list] = [\n",
    "    [\"a\",88,87,86],\n",
    "    [\"b\",85,84,83],\n",
    "    [\"c\",82,81,80],\n",
    "]\n",
    "pprint(students)\n",
    "for students in students:\n",
    "    print(students)"
   ]
  },
  {
   "cell_type": "code",
   "execution_count": 8,
   "metadata": {},
   "outputs": [
    {
     "name": "stdout",
     "output_type": "stream",
     "text": [
      "[{'chinese': 89, 'english': 85, 'math': 72, 'name': 'a'},\n",
      " {'chinese': 84, 'english': 87, 'math': 64, 'name': 'b'},\n",
      " {'chinese': 82, 'english': 84, 'math': 76, 'name': 'c'}]\n",
      "{'name': 'a', 'chinese': 89, 'english': 85, 'math': 72}\n",
      "{'name': 'b', 'chinese': 84, 'english': 87, 'math': 64}\n",
      "{'name': 'c', 'chinese': 82, 'english': 84, 'math': 76}\n"
     ]
    }
   ],
   "source": [
    "#巢狀結構,2維資料\n",
    "students:list[dict] = [\n",
    "    {\"name\":\"a\",\"chinese\":89,\"english\":85,\"math\":72},\n",
    "    {\"name\":\"b\",\"chinese\":84,\"english\":87,\"math\":64},\n",
    "    {\"name\":\"c\",\"chinese\":82,\"english\":84,\"math\":76}\n",
    "]\n",
    "pprint(students)\n",
    "for students in students:\n",
    "    print(students)"
   ]
  }
 ],
 "metadata": {
  "kernelspec": {
   "display_name": "Python 3",
   "language": "python",
   "name": "python3"
  },
  "language_info": {
   "codemirror_mode": {
    "name": "ipython",
    "version": 3
   },
   "file_extension": ".py",
   "mimetype": "text/x-python",
   "name": "python",
   "nbconvert_exporter": "python",
   "pygments_lexer": "ipython3",
   "version": "3.10.14"
  }
 },
 "nbformat": 4,
 "nbformat_minor": 2
}
