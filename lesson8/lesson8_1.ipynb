{
 "cells": [
  {
   "cell_type": "code",
   "execution_count": 1,
   "metadata": {},
   "outputs": [
    {
     "name": "stdout",
     "output_type": "stream",
     "text": [
      "=============猜數字遊戲=============\n",
      "\n",
      "猜數字範圍1~100 : 19\n",
      "比 50 再小一點\n",
      "您已經猜了 1 次\n",
      "猜數字範圍1~49 : 19\n",
      "BINGO！你猜對了，答案是:19\n",
      "您總共猜了 2 次\n",
      "=============猜數字遊戲=============\n",
      "\n",
      "猜數字範圍1~100 : Blank values are not allowed.\n",
      "猜數字範圍1~100 : "
     ]
    }
   ],
   "source": [
    "import random\n",
    "import pyinputplus as pypi\n",
    "\n",
    "def play()->None:\n",
    "    min:int = 1\n",
    "    max:int = 100\n",
    "    count:int = 0\n",
    "    # :int 是提示type是整數\n",
    "    target:int = random.randint(min,max)\n",
    "    print(\"=============猜數字遊戲=============\\n\")\n",
    "    while(True):\n",
    "        keyin = pypi.inputInt(f\"猜數字範圍{min}~{max} : \",min = min,max = max)\n",
    "        print(target)\n",
    "        count += 1\n",
    "        if keyin == target:\n",
    "            print(f\"BINGO！你猜對了，答案是:{keyin}\")\n",
    "            print(f\"您總共猜了 {count} 次\")\n",
    "            break\n",
    "        elif (keyin > target):\n",
    "            print(f\"比 {keyin} 再小一點\")\n",
    "            max = keyin - 1\n",
    "        elif (keyin < target):\n",
    "            print(f\"比 {keyin} 再大一點\")\n",
    "            min = keyin + 1\n",
    "        print(f\"您已經猜了 {count} 次\")\n",
    "while(True):\n",
    "    play()\n",
    "    paly_again:str = pypi.inputYesNo(\"請問還要繼續嗎?(y,n)\")\n",
    "    if paly_again == \"no\":\n",
    "        break\n",
    "\n",
    "\n",
    "print(\"遊戲結束\")"
   ]
  }
 ],
 "metadata": {
  "kernelspec": {
   "display_name": "Python 3",
   "language": "python",
   "name": "python3"
  },
  "language_info": {
   "codemirror_mode": {
    "name": "ipython",
    "version": 3
   },
   "file_extension": ".py",
   "mimetype": "text/x-python",
   "name": "python",
   "nbconvert_exporter": "python",
   "pygments_lexer": "ipython3",
   "version": "3.10.14"
  }
 },
 "nbformat": 4,
 "nbformat_minor": 2
}
