{
 "cells": [
  {
   "cell_type": "code",
   "execution_count": 1,
   "metadata": {},
   "outputs": [
    {
     "name": "stdout",
     "output_type": "stream",
     "text": [
      "\n",
      "1 2 3 4\n",
      "1,2,3,4 "
     ]
    }
   ],
   "source": [
    "print()\n",
    "print(1,2,3,4)\n",
    "print(1,2,3,4,end=\" \",sep=\",\")"
   ]
  },
  {
   "cell_type": "code",
   "execution_count": 3,
   "metadata": {},
   "outputs": [
    {
     "name": "stdout",
     "output_type": "stream",
     "text": [
      "(1, 2, 32, 4, 55)\n",
      "1\n",
      "2\n",
      "32\n",
      "4\n",
      "55\n"
     ]
    }
   ],
   "source": [
    "#python的資料架構\n",
    "#tuple\n",
    "#建立的符號\n",
    "#建立後，不可以修改內容 (因此通常是放暫時的東西，作為暫時的資料使用)\n",
    "\n",
    "t1:tuple[int] = (1,2,32,4,55)\n",
    "print(t1)\n",
    "for item in t1:\n",
    "    print(item)"
   ]
  },
  {
   "cell_type": "code",
   "execution_count": 4,
   "metadata": {},
   "outputs": [
    {
     "name": "stdout",
     "output_type": "stream",
     "text": [
      "liao\n",
      "172\n",
      "62\n"
     ]
    }
   ],
   "source": [
    "#tuple大部分都在使用拆解法\n",
    "name, height , weight= \"liao\",172,62\n",
    "print(name)\n",
    "print(height)\n",
    "print(weight)"
   ]
  }
 ],
 "metadata": {
  "kernelspec": {
   "display_name": "Python 3",
   "language": "python",
   "name": "python3"
  },
  "language_info": {
   "codemirror_mode": {
    "name": "ipython",
    "version": 3
   },
   "file_extension": ".py",
   "mimetype": "text/x-python",
   "name": "python",
   "nbconvert_exporter": "python",
   "pygments_lexer": "ipython3",
   "version": "3.10.14"
  }
 },
 "nbformat": 4,
 "nbformat_minor": 2
}
