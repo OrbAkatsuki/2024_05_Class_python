{
 "cells": [
  {
   "cell_type": "code",
   "execution_count": 1,
   "metadata": {},
   "outputs": [
    {
     "name": "stdout",
     "output_type": "stream",
     "text": [
      "請輸入您的姓名: EER\n",
      "請輸入您的身高(cm): 200\n",
      "請輸入您的體重(kg): 100\n",
      "您的姓名是: EER\n",
      "您的BMI值: 25.0\n",
      "您的體重: 過重\n"
     ]
    }
   ],
   "source": [
    "#內建的變數__name__\n",
    "\n",
    "import pyinputplus as pypi\n",
    "\n",
    "class Bmi:\n",
    "    @classmethod\n",
    "    def cal_bmi(cls,cm:int, kg:int):\n",
    "        bmi = kg / (cm/100) ** 2\n",
    "        return bmi\n",
    "    @classmethod\n",
    "    def get_status(cls,bmi:float):\n",
    "        if bmi >= 35:\n",
    "            result = \"重度肥胖\"\n",
    "        elif bmi >= 30:\n",
    "            result = \"中度肥胖\"\n",
    "        elif bmi >= 27:\n",
    "            result = \"輕度肥胖\"\n",
    "        elif bmi >= 24:\n",
    "            result = \"過重\"\n",
    "        elif bmi >= 18.5:\n",
    "            result = \"正常\"\n",
    "        else:\n",
    "            result = \"過輕\"\n",
    "        return result\n",
    "def main():\n",
    "    name = pypi.inputStr(\"請輸入您的姓名: \")\n",
    "    print(name)\n",
    "    cm = pypi.inputInt(\"請輸入您的身高(cm): \",min=0,max=300)\n",
    "    print(cm)\n",
    "    kg = pypi.inputInt(\"請輸入您的體重(kg): \",min=0,max=300)\n",
    "    print(kg)\n",
    "    bmi = Bmi.cal_bmi(cm=cm, kg=kg)\n",
    "    result = Bmi.get_status(bmi)\n",
    "    print(f\"您的姓名是: {name}\")\n",
    "    print(f\"您的BMI值: {round(bmi,ndigits=0)}\")\n",
    "    print(f\"您的體重: {result}\")\n",
    "\n",
    "if __name__ == '__main__':\n",
    "    '''\n",
    "    print(\"我是被python執行的主程式\")\n",
    "    print(__name__)\n",
    "    print(type(__name__))\n",
    "    '''\n",
    "    main()"
   ]
  }
 ],
 "metadata": {
  "kernelspec": {
   "display_name": "Python 3",
   "language": "python",
   "name": "python3"
  },
  "language_info": {
   "codemirror_mode": {
    "name": "ipython",
    "version": 3
   },
   "file_extension": ".py",
   "mimetype": "text/x-python",
   "name": "python",
   "nbconvert_exporter": "python",
   "pygments_lexer": "ipython3",
   "version": "3.10.14"
  }
 },
 "nbformat": 4,
 "nbformat_minor": 2
}
