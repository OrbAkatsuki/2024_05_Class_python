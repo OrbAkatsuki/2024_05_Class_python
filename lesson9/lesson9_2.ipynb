{
 "cells": [
  {
   "cell_type": "code",
   "execution_count": 4,
   "metadata": {},
   "outputs": [
    {
     "name": "stdout",
     "output_type": "stream",
     "text": [
      "徐國堂\n",
      "my name is 徐國堂\n",
      "廖唯善\n",
      "my name is 廖唯善\n"
     ]
    }
   ],
   "source": [
    "class Person():\n",
    "    def __init__(self,n):\n",
    "        self.name = n\n",
    "    def __repr__(self) -> str:\n",
    "        return f'my name is {self.name}'\n",
    "\n",
    "p1:Person = Person(\"徐國堂\")\n",
    "print(p1.name)\n",
    "print(p1)\n",
    "\n",
    "p2:Person = Person(\"廖唯善\")\n",
    "print(p2.name)\n",
    "print(p2)"
   ]
  },
  {
   "cell_type": "code",
   "execution_count": 20,
   "metadata": {},
   "outputs": [
    {
     "name": "stdout",
     "output_type": "stream",
     "text": [
      "<class '__main__.Student'>\n",
      "66 96 64 59\n",
      "====================\n",
      "學生姓名: 徐國堂\n",
      "※學期考試成績如下\n",
      "s1的總分是: 285\n",
      "s1的平均分是: 71.25\n",
      "====================\n",
      "<class '__main__.Student'>\n",
      "67 97 65 60\n",
      "====================\n",
      "學生姓名: 廖唯善\n",
      "※學期考試成績如下\n",
      "s2的總分是: 289\n",
      "s2的平均分是: 72.25\n",
      "====================\n"
     ]
    }
   ],
   "source": [
    "#父類別\n",
    "class Person():\n",
    "    def __init__(self,n):\n",
    "        self.name = n\n",
    "    def __repr__(self) -> str:\n",
    "        return f'學生姓名: {self.name}'\n",
    "\n",
    "#繼承 (子類別)\n",
    "class Student(Person):\n",
    "    def __init__(self, n:str,ch:int,en:int,ma:int,fn:int):\n",
    "        super().__init__(n)\n",
    "        self.__chinese = ch\n",
    "        self.__english = en\n",
    "        self.__math =ma\n",
    "        self.__franch =fn\n",
    "\n",
    "    #繼承-只能傳出值，不可以更改的property(屬性)  只能讀不能寫\n",
    "    @property\n",
    "    def chinese(self) -> int:\n",
    "        return self.__chinese\n",
    "    @property\n",
    "    def english(self) -> int:\n",
    "        return self.__english\n",
    "    @property\n",
    "    def math(self) -> int:\n",
    "        return self.__math\n",
    "    @property\n",
    "    def franch(self) -> int:\n",
    "        return self.__franch\n",
    "    def __repr__(self) -> str:\n",
    "        message:str = super().__repr__()\n",
    "        message += \"\\n※學期考試成績如下\"\n",
    "        return message\n",
    "    def sum(self) -> int:\n",
    "        return self.chinese + self.english + self.math + self.franch\n",
    "    \n",
    "    def average(self) -> float:\n",
    "        return round(self.sum() / 4.0, ndigits=2)\n",
    "    \n",
    "s1 = Student(n=\"徐國堂\",ch=66,en=96,ma=64,fn=59)\n",
    "print(type(s1))\n",
    "print(s1.chinese,s1.english,s1.math,s1.franch)\n",
    "print(\"====================\")\n",
    "print(s1)\n",
    "print(f\"s1的總分是: {s1.sum()}\")\n",
    "print(f\"s1的平均分是: {s1.average()}\")\n",
    "print(\"====================\")\n",
    "\n",
    "s2 = Student(n=\"廖唯善\",ch=67,en=97,ma=65,fn=60)\n",
    "print(type(s2))\n",
    "print(s2.chinese,s2.english,s2.math,s2.franch)\n",
    "print(\"====================\")\n",
    "print(s2)\n",
    "print(f\"s2的總分是: {s2.sum()}\")\n",
    "print(f\"s2的平均分是: {s2.average()}\")\n",
    "print(\"====================\")\n"
   ]
  }
 ],
 "metadata": {
  "kernelspec": {
   "display_name": "Python 3",
   "language": "python",
   "name": "python3"
  },
  "language_info": {
   "codemirror_mode": {
    "name": "ipython",
    "version": 3
   },
   "file_extension": ".py",
   "mimetype": "text/x-python",
   "name": "python",
   "nbconvert_exporter": "python",
   "pygments_lexer": "ipython3",
   "version": "3.10.14"
  }
 },
 "nbformat": 4,
 "nbformat_minor": 2
}
