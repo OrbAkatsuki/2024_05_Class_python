{
 "cells": [
  {
   "cell_type": "code",
   "execution_count": 11,
   "metadata": {},
   "outputs": [],
   "source": [
    "class Student(object):\n",
    "    def __init__(self,n:str,scores:int) -> None:\n",
    "        self.name = n\n",
    "        self.scores = scores\n",
    "    \n",
    "    def __repr__(self) -> str:\n",
    "        message = \"\"\n",
    "        message += f\"my name is {self.name}\\n\"\n",
    "        message += f\"my scores are {self.scores}\"\n",
    "        return message"
   ]
  },
  {
   "cell_type": "code",
   "execution_count": 12,
   "metadata": {},
   "outputs": [
    {
     "name": "stdout",
     "output_type": "stream",
     "text": [
      "liao\n",
      "288\n",
      "my name is liao\n",
      "my scores are 288\n"
     ]
    }
   ],
   "source": [
    "s1:Student = Student(n=\"liao\",scores=288)\n",
    "print(s1.name)\n",
    "print(s1.scores)\n",
    "print(s1)"
   ]
  },
  {
   "cell_type": "code",
   "execution_count": 20,
   "metadata": {},
   "outputs": [],
   "source": [
    "from dataclasses import dataclass\n",
    "\n",
    "#dataclass會自動建立__init__,__repr__\n",
    "\n",
    "@dataclass\n",
    "class Student():\n",
    "    name:str\n",
    "    scores:int = 0"
   ]
  },
  {
   "cell_type": "code",
   "execution_count": 14,
   "metadata": {},
   "outputs": [
    {
     "name": "stdout",
     "output_type": "stream",
     "text": [
      "liao\n",
      "288\n",
      "Student(name='liao', scores=288)\n"
     ]
    }
   ],
   "source": [
    "s1:Student = Student(name=\"liao\",scores=288)\n",
    "print(s1.name)\n",
    "print(s1.scores)\n",
    "print(s1)"
   ]
  },
  {
   "cell_type": "code",
   "execution_count": 21,
   "metadata": {},
   "outputs": [
    {
     "name": "stdout",
     "output_type": "stream",
     "text": [
      "sam\n",
      "0\n",
      "Student(name='sam', scores=0)\n"
     ]
    }
   ],
   "source": [
    "s2:Student = Student(\"sam\")\n",
    "print(s2.name)\n",
    "print(s2.scores)\n",
    "print(s2)"
   ]
  },
  {
   "cell_type": "code",
   "execution_count": 22,
   "metadata": {},
   "outputs": [],
   "source": [
    "#pydantic BaseModel\n",
    "from pydantic import BaseModel\n",
    "\n",
    "class Student(BaseModel):\n",
    "    name:str\n",
    "    scores:int = 0"
   ]
  },
  {
   "cell_type": "code",
   "execution_count": 23,
   "metadata": {},
   "outputs": [
    {
     "name": "stdout",
     "output_type": "stream",
     "text": [
      "liao\n",
      "288\n",
      "name='liao' scores=288\n"
     ]
    }
   ],
   "source": [
    "s1:Student = Student(name=\"liao\",scores=288)\n",
    "print(s1.name)\n",
    "print(s1.scores)\n",
    "print(s1)"
   ]
  },
  {
   "cell_type": "code",
   "execution_count": 24,
   "metadata": {},
   "outputs": [
    {
     "name": "stdout",
     "output_type": "stream",
     "text": [
      "sam\n",
      "0\n",
      "name='sam' scores=0\n"
     ]
    }
   ],
   "source": [
    "s2:Student = Student(name=\"sam\")\n",
    "print(s2.name)\n",
    "print(s2.scores)\n",
    "print(s2)"
   ]
  },
  {
   "cell_type": "code",
   "execution_count": 27,
   "metadata": {},
   "outputs": [
    {
     "name": "stdout",
     "output_type": "stream",
     "text": [
      "sam\n",
      "279\n",
      "<class 'int'>\n",
      "name='sam' scores=279\n"
     ]
    }
   ],
   "source": [
    "#依據field的資料類型自動轉換\n",
    "s3:Student = Student(name=\"sam\",scores=\"279\")\n",
    "print(s3.name)\n",
    "print(s3.scores)\n",
    "print(type(s3.scores))\n",
    "print(s3)"
   ]
  }
 ],
 "metadata": {
  "kernelspec": {
   "display_name": "Python 3",
   "language": "python",
   "name": "python3"
  },
  "language_info": {
   "codemirror_mode": {
    "name": "ipython",
    "version": 3
   },
   "file_extension": ".py",
   "mimetype": "text/x-python",
   "name": "python",
   "nbconvert_exporter": "python",
   "pygments_lexer": "ipython3",
   "version": "3.10.14"
  }
 },
 "nbformat": 4,
 "nbformat_minor": 2
}
