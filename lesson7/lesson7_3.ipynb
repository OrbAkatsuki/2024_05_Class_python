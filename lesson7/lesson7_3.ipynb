{
 "cells": [
  {
   "cell_type": "code",
   "execution_count": 1,
   "metadata": {},
   "outputs": [
    {
     "name": "stdout",
     "output_type": "stream",
     "text": [
      "Hello!\n"
     ]
    }
   ],
   "source": [
    "def sayHello():\n",
    "    print(\"Hello!\")\n",
    "sayHello()"
   ]
  },
  {
   "cell_type": "code",
   "execution_count": 8,
   "metadata": {},
   "outputs": [
    {
     "name": "stdout",
     "output_type": "stream",
     "text": [
      "0.8178715401181816\n"
     ]
    }
   ],
   "source": [
    "import random\n",
    "def getRandomNum()->None:\n",
    "    return random.random()\n",
    "n:float = getRandomNum()\n",
    "print(n)"
   ]
  },
  {
   "cell_type": "code",
   "execution_count": 11,
   "metadata": {},
   "outputs": [
    {
     "name": "stdout",
     "output_type": "stream",
     "text": [
      "Hello!Robert\n",
      "Hello!SSS\n"
     ]
    }
   ],
   "source": [
    "#一個參數 參數:require\n",
    "#引數值的呼叫 n 只會在這段使用，出去後就被消滅不會影響到其他程式碼\n",
    "def sayHello(n:str)->None:\n",
    "    name:str = n\n",
    "    print(f\"Hello!{name}\")\n",
    "\n",
    "\n",
    "sayHello(\"Robert\") #引數值的呼叫，將值帶入參數\n",
    "sayHello(n=\"SSS\") #引數名稱的呼叫"
   ]
  },
  {
   "cell_type": "code",
   "execution_count": 14,
   "metadata": {},
   "outputs": [
    {
     "name": "stdout",
     "output_type": "stream",
     "text": [
      "50\n",
      "56\n"
     ]
    }
   ],
   "source": [
    "#2個參數\n",
    "#傳出值int\n",
    "\n",
    "def mp(a:int,b:int) -> int:\n",
    "    return a * b\n",
    "\n",
    "print(mp(5,10)) #引數值的呼叫\n",
    "print(mp(a=8,b=7)) #引數名稱的呼叫"
   ]
  },
  {
   "cell_type": "code",
   "execution_count": 15,
   "metadata": {},
   "outputs": [
    {
     "name": "stdout",
     "output_type": "stream",
     "text": [
      "請輸入:10\n",
      "10的因數為:  1 2 5 10 應用結束\n"
     ]
    }
   ],
   "source": [
    "import pyinputplus as pypi\n",
    "\n",
    "def get_in(n:int)->None:\n",
    "    print(f\"{n}的因數為: \",end=\" \")\n",
    "    for i in range(1 , n + 1):\n",
    "        if n % i == 0:\n",
    "            print(i ,end=\" \")\n",
    "\n",
    "n:int = pypi.inputInt(\"請輸入查詢數值:\" ,min=1)\n",
    "print(n)\n",
    "get_in(n)\n",
    "print(\"應用結束\")"
   ]
  }
 ],
 "metadata": {
  "kernelspec": {
   "display_name": "Python 3",
   "language": "python",
   "name": "python3"
  },
  "language_info": {
   "codemirror_mode": {
    "name": "ipython",
    "version": 3
   },
   "file_extension": ".py",
   "mimetype": "text/x-python",
   "name": "python",
   "nbconvert_exporter": "python",
   "pygments_lexer": "ipython3",
   "version": "3.10.14"
  }
 },
 "nbformat": 4,
 "nbformat_minor": 2
}
