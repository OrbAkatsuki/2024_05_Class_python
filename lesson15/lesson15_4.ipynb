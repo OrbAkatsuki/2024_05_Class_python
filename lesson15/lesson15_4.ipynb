{
 "cells": [
  {
   "cell_type": "code",
   "execution_count": 2,
   "metadata": {},
   "outputs": [
    {
     "data": {
      "text/plain": [
       "array([[ 55,  69,  71,  91,  77],\n",
       "       [ 83,  96,  67,  72,  99],\n",
       "       [ 64,  73,  65,  90,  55],\n",
       "       [ 64,  70,  82,  65,  81],\n",
       "       [ 62,  74,  73,  55,  52],\n",
       "       [ 93,  85,  64,  99,  84],\n",
       "       [ 77,  72,  53,  73,  58],\n",
       "       [ 55,  79,  51,  96,  70],\n",
       "       [ 61,  98,  73,  72,  67],\n",
       "       [ 86,  71,  60,  65,  61],\n",
       "       [ 71,  68,  64,  85,  97],\n",
       "       [ 93,  59,  61,  56,  95],\n",
       "       [ 75,  55,  55,  62,  62],\n",
       "       [ 79,  95,  64,  74,  66],\n",
       "       [ 58,  60,  69,  81,  70],\n",
       "       [ 79,  57,  97,  78,  62],\n",
       "       [ 89,  81,  95,  84,  59],\n",
       "       [ 76,  72,  50,  89, 100],\n",
       "       [ 70,  90,  65,  90,  95],\n",
       "       [ 63,  53,  88,  89,  64],\n",
       "       [ 53,  65,  67,  86,  52],\n",
       "       [ 56,  54,  91,  52,  55],\n",
       "       [ 73,  79,  54,  63,  97],\n",
       "       [ 85,  87,  98,  55,  53],\n",
       "       [ 51,  67,  58,  81,  95],\n",
       "       [ 84,  57,  99,  71,  89],\n",
       "       [ 87,  89,  62,  68,  93],\n",
       "       [ 54,  82,  85,  50,  54],\n",
       "       [ 93,  72,  56,  80,  58],\n",
       "       [ 59,  81,  86,  81,  53],\n",
       "       [ 55,  60,  76,  60,  57],\n",
       "       [ 66,  51,  57,  64,  74],\n",
       "       [ 59,  83,  69,  94,  74],\n",
       "       [ 64,  80,  97,  56,  95],\n",
       "       [ 70,  79,  89,  63,  82],\n",
       "       [ 70,  56,  98,  59,  99],\n",
       "       [ 95,  65,  79,  76, 100],\n",
       "       [ 81,  67,  93,  90,  80],\n",
       "       [ 80,  59,  72,  98,  85],\n",
       "       [ 67,  59,  60,  55,  52],\n",
       "       [ 82,  87,  61,  97,  83],\n",
       "       [ 81,  96,  67,  72,  68],\n",
       "       [ 53,  82,  59,  51,  68],\n",
       "       [ 88,  75,  98,  77,  95],\n",
       "       [ 70,  51,  92,  88,  91],\n",
       "       [ 64,  66,  80,  62,  75],\n",
       "       [ 74,  96,  63,  82,  67],\n",
       "       [ 90,  64,  78,  97,  97],\n",
       "       [ 59,  83,  92,  54,  72],\n",
       "       [ 63,  78,  62,  84,  51]])"
      ]
     },
     "execution_count": 2,
     "metadata": {},
     "output_type": "execute_result"
    }
   ],
   "source": [
    "import numpy as np\n",
    "students = np.random.randint(50,101,size=(50,5))\n",
    "students"
   ]
  },
  {
   "cell_type": "code",
   "execution_count": 3,
   "metadata": {},
   "outputs": [
    {
     "data": {
      "text/plain": [
       "array([[64, 66, 80, 62, 75],\n",
       "       [74, 96, 63, 82, 67],\n",
       "       [90, 64, 78, 97, 97],\n",
       "       [59, 83, 92, 54, 72],\n",
       "       [63, 78, 62, 84, 51]])"
      ]
     },
     "execution_count": 3,
     "metadata": {},
     "output_type": "execute_result"
    }
   ],
   "source": [
    "students[0,0]\n",
    "students[:1,:]\n",
    "students[:1] #前一個學生\n",
    "students[:2] #前2個學生\n",
    "students[-5:] #最後5個學生"
   ]
  },
  {
   "cell_type": "code",
   "execution_count": 4,
   "metadata": {},
   "outputs": [
    {
     "data": {
      "text/plain": [
       "array([71., 83., 65., 70., 62., 85., 72., 70., 72., 65., 71., 61., 62.,\n",
       "       74., 69., 78., 84., 76., 90., 64., 65., 55., 73., 85., 67., 84.,\n",
       "       87., 54., 72., 81., 60., 64., 74., 80., 79., 70., 79., 81., 80.,\n",
       "       59., 83., 72., 59., 88., 88., 66., 74., 90., 72., 63.])"
      ]
     },
     "execution_count": 4,
     "metadata": {},
     "output_type": "execute_result"
    }
   ],
   "source": [
    "np.sum(students,axis=1) #每個學生的總分\n",
    "np.mean(students,axis=1) #每個學生的平均\n",
    "np.max(students,axis=1) #每個學生的最高分\n",
    "np.min(students,axis=1) #每個學生的最低分\n",
    "np.argmax(students,axis=1) #每個學生的最高分的科目\n",
    "np.argmin(students,axis=1) #每個學生的最低分的科目\n",
    "np.median(students,axis=1) #每個學生的中位數"
   ]
  }
 ],
 "metadata": {
  "kernelspec": {
   "display_name": "Python 3",
   "language": "python",
   "name": "python3"
  },
  "language_info": {
   "codemirror_mode": {
    "name": "ipython",
    "version": 3
   },
   "file_extension": ".py",
   "mimetype": "text/x-python",
   "name": "python",
   "nbconvert_exporter": "python",
   "pygments_lexer": "ipython3",
   "version": "3.10.14"
  }
 },
 "nbformat": 4,
 "nbformat_minor": 2
}
