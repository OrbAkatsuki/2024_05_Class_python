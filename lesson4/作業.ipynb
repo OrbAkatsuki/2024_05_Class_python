{
 "cells": [
  {
   "cell_type": "code",
   "execution_count": 5,
   "metadata": {},
   "outputs": [
    {
     "name": "stdout",
     "output_type": "stream",
     "text": [
      "個人資訊 - 姓名: LIAO, 身高: 172.87 cm, 體重: 65.77, BMI: 22.01\n",
      "BMI計算結果:正常範圍\n"
     ]
    }
   ],
   "source": [
    "name = input(\"請輸入您的姓名:\")\n",
    "cm = float(input(\"請輸入您的身高(cm):\"))\n",
    "weight = float(input(\"請輸入您的體重(kg):\"))\n",
    "bmi = float(round((weight / ( cm / 100 ) ** 2),ndigits=2))\n",
    "\n",
    "\n",
    "if 18.25 <= bmi <= 24:\n",
    "    bmitype = \"正常範圍\"\n",
    "else:\n",
    "    bmitype = \"異常範圍\"\n",
    "\n",
    "print(f\"個人資訊 - 姓名: {name}, 身高: {cm} cm, 體重: {weight}, BMI: {bmi}\")\n",
    "print(f\"BMI計算結果:{bmitype}\")"
   ]
  }
 ],
 "metadata": {
  "kernelspec": {
   "display_name": "Python 3",
   "language": "python",
   "name": "python3"
  },
  "language_info": {
   "codemirror_mode": {
    "name": "ipython",
    "version": 3
   },
   "file_extension": ".py",
   "mimetype": "text/x-python",
   "name": "python",
   "nbconvert_exporter": "python",
   "pygments_lexer": "ipython3",
   "version": "3.10.14"
  }
 },
 "nbformat": 4,
 "nbformat_minor": 2
}
