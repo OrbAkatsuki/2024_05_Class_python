{
 "cells": [
  {
   "cell_type": "code",
   "execution_count": 1,
   "metadata": {},
   "outputs": [
    {
     "name": "stdout",
     "output_type": "stream",
     "text": [
      "values1的值平均是7\n",
      "values1的標準差是5.94418483337567\n",
      "================================\n",
      "values2的值平均是7\n",
      "values2的標準差是1.8257418583505538\n"
     ]
    }
   ],
   "source": [
    "import statistics\n",
    "\n",
    "values1 = [0, 5, 9, 14]\n",
    "values2 = [5, 6 ,8 ,9]\n",
    "\n",
    "average1 = statistics.mean(values1)\n",
    "average2 = statistics.mean(values2)\n",
    "std1 = statistics.stdev(values1)\n",
    "std2 = statistics.stdev(values2)\n",
    "\n",
    "print(f\"values1的值平均是{average1}\")\n",
    "print(f\"values1的標準差是{std1}\")\n",
    "print(\"================================\")\n",
    "print(f\"values2的值平均是{average2}\")\n",
    "print(f\"values2的標準差是{std2}\")"
   ]
  },
  {
   "cell_type": "code",
   "execution_count": 6,
   "metadata": {},
   "outputs": [
    {
     "name": "stdout",
     "output_type": "stream",
     "text": [
      "5625\n"
     ]
    }
   ],
   "source": [
    "n = 10\n",
    "n += 5 #複合指定運算子，n裡面的值+5\n",
    "n *= 5 #複合指定運算子，n裡面的值*5\n",
    "n **= 2 #複合指定運算子，n裡面的值平方\n",
    "print(n)"
   ]
  },
  {
   "cell_type": "code",
   "execution_count": 9,
   "metadata": {},
   "outputs": [
    {
     "name": "stdout",
     "output_type": "stream",
     "text": [
      "2.571+25.584+848.1223=876.28\n"
     ]
    }
   ],
   "source": [
    "#請以複合指定運算子，讓使用者輸入3個值進行相加\n",
    "total = 0\n",
    "value1 = float(input(\"請輸入第一個數字:\"))\n",
    "total += value1\n",
    "\n",
    "value2 = float(input(\"請輸入第一個數字:\"))\n",
    "total += value2\n",
    "\n",
    "value3 = float(input(\"請輸入第一個數字:\"))\n",
    "total += value3\n",
    "\n",
    "print(f\"{value1}+{value2}+{value3}={round(total,ndigits=2)}\")"
   ]
  },
  {
   "cell_type": "code",
   "execution_count": 3,
   "metadata": {},
   "outputs": [
    {
     "name": "stdout",
     "output_type": "stream",
     "text": [
      "1.0 + 41.11 + 2.0 = 44.11\n"
     ]
    }
   ],
   "source": [
    "total = 0\n",
    "a = float(input(\"請輸入數字a\"))\n",
    "total += a\n",
    "\n",
    "b = float(input(\"請輸入數字b\"))\n",
    "total += b\n",
    "\n",
    "c = float(input(\"請輸入數字c\"))\n",
    "total += c\n",
    "\n",
    "print(f\"{a} + {b} + {c} = {round(total,ndigits=2)}\")"
   ]
  }
 ],
 "metadata": {
  "kernelspec": {
   "display_name": "Python 3",
   "language": "python",
   "name": "python3"
  },
  "language_info": {
   "codemirror_mode": {
    "name": "ipython",
    "version": 3
   },
   "file_extension": ".py",
   "mimetype": "text/x-python",
   "name": "python",
   "nbconvert_exporter": "python",
   "pygments_lexer": "ipython3",
   "version": "3.10.14"
  }
 },
 "nbformat": 4,
 "nbformat_minor": 2
}
